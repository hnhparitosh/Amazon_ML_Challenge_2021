{
 "cells": [
  {
   "cell_type": "code",
   "execution_count": null,
   "source": [
    "import pandas as pd\r\n",
    "import re\r\n",
    "import numpy as np\r\n",
    "import seaborn as sns\r\n",
    "import matplotlib.pyplot as plt\r\n",
    "%matplotlib inline\r\n",
    "\r\n",
    "# sklearn packages\r\n",
    "from sklearn import metrics\r\n",
    "from sklearn.metrics import accuracy_score, confusion_matrix\r\n",
    "from sklearn.feature_extraction.text import TfidfVectorizer, CountVectorizer, TfidfTransformer\r\n",
    "from sklearn.model_selection import train_test_split, GridSearchCV, cross_val_score, StratifiedKFold\r\n",
    "from sklearn.pipeline import Pipeline, FeatureUnion\r\n",
    "from sklearn.preprocessing import FunctionTransformer, StandardScaler\r\n",
    "from sklearn.base import BaseEstimator, TransformerMixin\r\n",
    "from sklearn.neighbors import KNeighborsClassifier\r\n",
    "from sklearn.tree import DecisionTreeClassifier\r\n",
    "from sklearn.ensemble import RandomForestClassifier, AdaBoostClassifier\r\n",
    "from sklearn.naive_bayes import MultinomialNB\r\n",
    "from sklearn.dummy import DummyClassifier\r\n",
    "from xgboost import XGBClassifier\r\n",
    "\r\n",
    "# nltk packages\r\n",
    "import nltk\r\n",
    "from nltk import word_tokenize\r\n",
    "from nltk.stem import WordNetLemmatizer \r\n",
    "from nltk.corpus import stopwords\r\n",
    "from string import punctuation\r\n",
    "import unidecode\r\n",
    "import csv\r\n",
    "\r\n",
    "RANDOM_SEED = 69"
   ],
   "outputs": [],
   "metadata": {}
  },
  {
   "cell_type": "code",
   "execution_count": null,
   "source": [
    "train = pd.read_csv('train.csv',escapechar=\"\\\\\", quoting=csv.QUOTE_NONE);"
   ],
   "outputs": [],
   "metadata": {}
  },
  {
   "cell_type": "code",
   "execution_count": null,
   "source": [
    "test = pd.read_csv('test.csv',escapechar=\"\\\\\", quoting=csv.QUOTE_NONE);"
   ],
   "outputs": [],
   "metadata": {}
  },
  {
   "cell_type": "code",
   "execution_count": null,
   "source": [
    "train.info()"
   ],
   "outputs": [],
   "metadata": {}
  },
  {
   "cell_type": "code",
   "execution_count": null,
   "source": [
    "test.info()"
   ],
   "outputs": [],
   "metadata": {}
  },
  {
   "cell_type": "code",
   "execution_count": null,
   "source": [
    "train.isnull().sum()"
   ],
   "outputs": [],
   "metadata": {}
  },
  {
   "cell_type": "code",
   "execution_count": null,
   "source": [
    "train.describe(include='all')"
   ],
   "outputs": [],
   "metadata": {}
  },
  {
   "cell_type": "code",
   "execution_count": null,
   "source": [
    "# cleaning part\r\n",
    "\r\n",
    "REPLACE_BY_SPACE_RE = re.compile('[/(){}\\[\\]\\|@,;]')\r\n",
    "BAD_SYMBOLS_RE = re.compile('[^0-9a-z #+_]')\r\n",
    "STOPWORDS = set(stopwords.words('english'))\r\n",
    "\r\n",
    "def clean_text(text):\r\n",
    "    if(text!=text):\r\n",
    "        return \"\"\r\n",
    "    text = text.lower()\r\n",
    "    text = REPLACE_BY_SPACE_RE.sub(' ', text)\r\n",
    "    text = BAD_SYMBOLS_RE.sub('', text)\r\n",
    "    text = ' '.join(word for word in text.split() if word not in STOPWORDS)\r\n",
    "    return text"
   ],
   "outputs": [],
   "metadata": {}
  },
  {
   "cell_type": "code",
   "execution_count": null,
   "source": [
    "clean_train = dict()\r\n",
    "clean_train['TITLE'] = train['TITLE'].apply(clean_text)\r\n",
    "clean_train['BULLET_POINTS'] = train['BULLET_POINTS'].apply(clean_text)\r\n",
    "clean_train['BRAND'] = train['BRAND'].apply(clean_text)\r\n",
    "clean_train['DESCRIPTION'] = train['DESCRIPTION'].apply(clean_text)\r\n",
    "clean_train['BROWSE_NODE_ID'] = train['BROWSE_NODE_ID']"
   ],
   "outputs": [],
   "metadata": {}
  },
  {
   "cell_type": "code",
   "execution_count": null,
   "source": [
    "clean_train_df = pd.DataFrame(clean_train)\r\n",
    "clean_train_df.to_csv('clean_train.csv')"
   ],
   "outputs": [],
   "metadata": {}
  },
  {
   "cell_type": "code",
   "execution_count": null,
   "source": [],
   "outputs": [],
   "metadata": {}
  },
  {
   "cell_type": "code",
   "execution_count": null,
   "source": [
    "clean_train_df.info()"
   ],
   "outputs": [],
   "metadata": {}
  },
  {
   "cell_type": "code",
   "execution_count": null,
   "source": [
    "clean_train_df = pd.read_csv('clean_train.csv',escapechar=\"\\\\\", quoting=csv.QUOTE_NONE);"
   ],
   "outputs": [],
   "metadata": {}
  },
  {
   "cell_type": "code",
   "execution_count": null,
   "source": [
    "train = clean_train_df"
   ],
   "outputs": [],
   "metadata": {}
  },
  {
   "cell_type": "code",
   "execution_count": null,
   "source": [
    "#train = train[pd.notnull(train[\"TITLE\"]) & pd.notnull(train[\"DESCRIPTION\"]) & pd.notnull(train[\"BULLET_POINTS\"]) & pd.notnull(train[\"BRAND\"])]\r\n",
    "# test = test[pd.notnull(test[\"TITLE\"]) & pd.notnull(test[\"DESCRIPTION\"]) & pd.notnull(test[\"BULLET_POINTS\"]) & pd.notnull(test[\"BRAND\"])]"
   ],
   "outputs": [],
   "metadata": {}
  },
  {
   "cell_type": "code",
   "execution_count": null,
   "source": [
    "train.fillna('', inplace=True)\r\n",
    "test.fillna('', inplace=True)"
   ],
   "outputs": [],
   "metadata": {}
  },
  {
   "cell_type": "code",
   "execution_count": null,
   "source": [
    "X = train[\"TITLE\"].map(str)+\" \"+train[\"DESCRIPTION\"].map(str)+\" \"+train[\"BULLET_POINTS\"].map(str)+\" \"+train[\"BRAND\"]\r\n",
    "y = train[\"BROWSE_NODE_ID\"]\r\n",
    "\r\n",
    "X_test = test[\"TITLE\"].map(str)+\" \"+test[\"DESCRIPTION\"].map(str)+\" \"+test[\"BULLET_POINTS\"].map(str)+\" \"+test[\"BRAND\"]\r\n",
    "\r\n",
    "validation_size = 0.3\r\n",
    "X_train, X_validation, y_train, y_validation = train_test_split(X, y, test_size=validation_size,\r\n",
    "                                                                random_state=RANDOM_SEED)\r\n",
    "\r\n",
    "print(\"Training Size:- \", int((X.shape[0])*(1-validation_size)))\r\n",
    "print(\"Validation Size:- \", int((X.shape[0])*(validation_size)))\r\n",
    "print(\"Test Size:- \", X_test.shape[0])"
   ],
   "outputs": [],
   "metadata": {}
  },
  {
   "cell_type": "code",
   "execution_count": null,
   "source": [
    "nb = Pipeline([('vect', CountVectorizer()),\r\n",
    "               ('tfidf', TfidfTransformer()),\r\n",
    "               ('clf', XGBClassifier(tree_method='gpu_hist',gpu_id=0)),\r\n",
    "              ])\r\n",
    "print(X_train.shape)\r\n",
    "nb.fit(X_train[:15000], y_train[:15000])"
   ],
   "outputs": [],
   "metadata": {}
  },
  {
   "cell_type": "code",
   "execution_count": null,
   "source": [
    "from numba import jit, cuda"
   ],
   "outputs": [],
   "metadata": {}
  },
  {
   "cell_type": "code",
   "execution_count": null,
   "source": [
    "from lightgbm import LGBMClassifier\r\n",
    "from sklearn.svm import LinearSVC\r\n",
    "nb = Pipeline([('vect', CountVectorizer()),\r\n",
    "               ('tfidf', TfidfTransformer()),\r\n",
    "               ('clf', LinearSVC()),\r\n",
    "              ])\r\n",
    "print(X_train.shape)\r\n",
    "def cuda_Train():\r\n",
    "    nb.fit(X_train[:100000], y_train[:100000])\r\n",
    "\r\n",
    "cuda_Train()"
   ],
   "outputs": [],
   "metadata": {}
  },
  {
   "cell_type": "code",
   "execution_count": null,
   "source": [
    "y_pred = nb.predict(X_validation[:10000])\r\n",
    "print('Accuracy:-',100*accuracy_score(y_pred, y_validation[:10000]))"
   ],
   "outputs": [],
   "metadata": {}
  },
  {
   "cell_type": "code",
   "execution_count": null,
   "source": [
    "y_ans = nb.predict(X_test[:])"
   ],
   "outputs": [],
   "metadata": {}
  },
  {
   "cell_type": "code",
   "execution_count": null,
   "source": [
    "for_sub = pd.DataFrame(test['PRODUCT_ID'])"
   ],
   "outputs": [],
   "metadata": {}
  },
  {
   "cell_type": "code",
   "execution_count": null,
   "source": [
    "for_sub.info()"
   ],
   "outputs": [],
   "metadata": {}
  },
  {
   "cell_type": "code",
   "execution_count": null,
   "source": [
    "for_sub['BROWSE_NODE_ID']=y_ans"
   ],
   "outputs": [],
   "metadata": {}
  },
  {
   "cell_type": "code",
   "execution_count": null,
   "source": [
    "for_sub.to_csv('submission.csv',index=False)"
   ],
   "outputs": [],
   "metadata": {}
  },
  {
   "cell_type": "code",
   "execution_count": null,
   "source": [
    "for_sub.head(5)"
   ],
   "outputs": [],
   "metadata": {}
  },
  {
   "cell_type": "code",
   "execution_count": null,
   "source": [],
   "outputs": [],
   "metadata": {}
  }
 ],
 "metadata": {
  "orig_nbformat": 4,
  "language_info": {
   "name": "python",
   "version": "3.8.8",
   "mimetype": "text/x-python",
   "codemirror_mode": {
    "name": "ipython",
    "version": 3
   },
   "pygments_lexer": "ipython3",
   "nbconvert_exporter": "python",
   "file_extension": ".py"
  },
  "kernelspec": {
   "name": "python3",
   "display_name": "Python 3.8.8 64-bit"
  },
  "interpreter": {
   "hash": "c0d2612b2a12859627029645efa58ee3c9677f4b69512729e642f786c0c12387"
  }
 },
 "nbformat": 4,
 "nbformat_minor": 2
}