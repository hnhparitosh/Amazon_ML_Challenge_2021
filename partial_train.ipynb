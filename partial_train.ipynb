{
 "cells": [
  {
   "cell_type": "code",
   "execution_count": 1,
   "source": [
    "import pandas as pd\r\n",
    "import re\r\n",
    "import numpy as np\r\n",
    "import csv\r\n",
    "# sklearn packages\r\n",
    "from sklearn import metrics\r\n",
    "from sklearn.metrics import accuracy_score, confusion_matrix\r\n",
    "from sklearn.feature_extraction.text import TfidfVectorizer\r\n",
    "from sklearn.feature_extraction.text import CountVectorizer, TfidfTransformer\r\n",
    "from sklearn.model_selection import train_test_split, cross_val_score\r\n",
    "from sklearn.pipeline import Pipeline, FeatureUnion\r\n",
    "from sklearn.svm import LinearSVC, SVC, NuSVC\r\n",
    "from sklearn.neighbors import KNeighborsClassifier\r\n",
    "from sklearn.ensemble import RandomForestClassifier\r\n",
    "from sklearn.linear_model import LogisticRegression, LinearRegression, BayesianRidge\r\n",
    "from sklearn.gaussian_process import GaussianProcessClassifier\r\n",
    "from sklearn.discriminant_analysis import LinearDiscriminantAnalysis\r\n",
    "\r\n",
    "RANDOM_SEED = 69"
   ],
   "outputs": [],
   "metadata": {}
  },
  {
   "cell_type": "code",
   "execution_count": 2,
   "source": [
    "test = pd.read_csv('test.csv',escapechar=\"\\\\\", quoting=csv.QUOTE_NONE);"
   ],
   "outputs": [],
   "metadata": {}
  },
  {
   "cell_type": "code",
   "execution_count": 3,
   "source": [
    "train = pd.read_csv('clean_train.csv',escapechar=\"\\\\\", quoting=csv.QUOTE_NONE);"
   ],
   "outputs": [],
   "metadata": {}
  },
  {
   "cell_type": "code",
   "execution_count": 4,
   "source": [
    "train.fillna('', inplace=True)"
   ],
   "outputs": [],
   "metadata": {}
  },
  {
   "cell_type": "code",
   "execution_count": 4,
   "source": [
    "test.fillna('', inplace=True)"
   ],
   "outputs": [],
   "metadata": {}
  },
  {
   "cell_type": "code",
   "execution_count": 5,
   "source": [
    "train = train[pd.notnull(train[\"TITLE\"]) & pd.notnull(train[\"DESCRIPTION\"]) & pd.notnull(train[\"BULLET_POINTS\"]) & pd.notnull(train[\"BRAND\"])]\r\n",
    "# test = test[pd.notnull(test[\"TITLE\"]) & pd.notnull(test[\"DESCRIPTION\"]) & pd.notnull(test[\"BULLET_POINTS\"]) & pd.notnull(test[\"BRAND\"])]"
   ],
   "outputs": [],
   "metadata": {}
  },
  {
   "cell_type": "code",
   "execution_count": 6,
   "source": [
    "X = train[\"TITLE\"].map(str)+\" \"+train[\"DESCRIPTION\"].map(str)+\" \"+train[\"BULLET_POINTS\"].map(str)+\" \"+train[\"BRAND\"]\r\n",
    "y = train[\"BROWSE_NODE_ID\"]\r\n",
    "\r\n",
    "X_test = test[\"TITLE\"].map(str)+\" \"+test[\"DESCRIPTION\"].map(str)+\" \"+test[\"BULLET_POINTS\"].map(str)+\" \"+test[\"BRAND\"]\r\n",
    "\r\n",
    "validation_size = 0.3\r\n",
    "X_train, X_validation, y_train, y_validation = train_test_split(X, y, test_size=validation_size,\r\n",
    "                                                                random_state=RANDOM_SEED)\r\n",
    "\r\n",
    "print(\"Training Size:- \", int((X.shape[0])*(1-validation_size)))\r\n",
    "print(\"Validation Size:- \", int((X.shape[0])*(validation_size)))\r\n",
    "print(\"Test Size:- \", X_test.shape[0])"
   ],
   "outputs": [
    {
     "output_type": "stream",
     "name": "stdout",
     "text": [
      "Training Size:-  1475141\n",
      "Validation Size:-  632203\n",
      "Test Size:-  110775\n"
     ]
    }
   ],
   "metadata": {}
  },
  {
   "cell_type": "code",
   "execution_count": 7,
   "source": [
    "nb = Pipeline([('vect', CountVectorizer()),\r\n",
    "               ('tfidf', TfidfTransformer()),\r\n",
    "               ('clf', LinearSVC()),\r\n",
    "              ])\r\n",
    "print(X_train.shape)\r\n",
    "\r\n",
    "nb.fit(X_train[:5000], y_train[:5000])"
   ],
   "outputs": [
    {
     "output_type": "stream",
     "name": "stdout",
     "text": [
      "(1475141,)\n"
     ]
    },
    {
     "output_type": "execute_result",
     "data": {
      "text/plain": [
       "Pipeline(steps=[('vect', CountVectorizer()), ('tfidf', TfidfTransformer()),\n",
       "                ('clf', LinearSVC())])"
      ]
     },
     "metadata": {},
     "execution_count": 7
    }
   ],
   "metadata": {}
  },
  {
   "cell_type": "code",
   "execution_count": 12,
   "source": [
    "y_pred = nb.predict(X_validation[:10000])\r\n",
    "print('Accuracy:-',100*accuracy_score(y_pred, y_validation[:10000]))"
   ],
   "outputs": [
    {
     "output_type": "stream",
     "name": "stdout",
     "text": [
      "Accuracy:- 49.89\n"
     ]
    }
   ],
   "metadata": {}
  },
  {
   "cell_type": "code",
   "execution_count": 9,
   "source": [
    "y_ans = nb.predict(X_test[:])"
   ],
   "outputs": [],
   "metadata": {}
  },
  {
   "cell_type": "code",
   "execution_count": 10,
   "source": [
    "for_sub = pd.DataFrame(test['PRODUCT_ID'])\r\n",
    "for_sub['BROWSE_NODE_ID']=y_ans\r\n",
    "for_sub.to_csv('submission.csv',index=False)"
   ],
   "outputs": [],
   "metadata": {}
  },
  {
   "cell_type": "code",
   "execution_count": 11,
   "source": [
    "from distributed import Client\r\n",
    "import dask as dask\r\n",
    "\r\n",
    "import joblib\r\n",
    "\r\n",
    "client = Client(processes=False)\r\n",
    "\r\n",
    "with joblib.parallel_backend('dask'):\r\n",
    "    nb.fit(X_train[:5000], y_train[:5000])"
   ],
   "outputs": [],
   "metadata": {}
  },
  {
   "cell_type": "code",
   "execution_count": null,
   "source": [],
   "outputs": [],
   "metadata": {}
  }
 ],
 "metadata": {
  "orig_nbformat": 4,
  "language_info": {
   "name": "python",
   "version": "3.8.8",
   "mimetype": "text/x-python",
   "codemirror_mode": {
    "name": "ipython",
    "version": 3
   },
   "pygments_lexer": "ipython3",
   "nbconvert_exporter": "python",
   "file_extension": ".py"
  },
  "kernelspec": {
   "name": "python3",
   "display_name": "Python 3.8.8 64-bit"
  },
  "interpreter": {
   "hash": "c0d2612b2a12859627029645efa58ee3c9677f4b69512729e642f786c0c12387"
  }
 },
 "nbformat": 4,
 "nbformat_minor": 2
}